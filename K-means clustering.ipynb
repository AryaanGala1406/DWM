{
  "nbformat": 4,
  "nbformat_minor": 0,
  "metadata": {
    "colab": {
      "provenance": []
    },
    "kernelspec": {
      "name": "python3",
      "display_name": "Python 3"
    },
    "language_info": {
      "name": "python"
    }
  },
  "cells": [
    {
      "cell_type": "markdown",
      "source": [
        "K-Means Clustering 1D"
      ],
      "metadata": {
        "id": "gLW5ezIVQsvD"
      }
    },
    {
      "cell_type": "code",
      "source": [
        "import numpy as np\n",
        "import matplotlib.pyplot as plt"
      ],
      "metadata": {
        "id": "yxoz0ucHEIa_"
      },
      "execution_count": 10,
      "outputs": []
    },
    {
      "cell_type": "code",
      "execution_count": 11,
      "metadata": {
        "id": "WHO57BRsC9cg"
      },
      "outputs": [],
      "source": [
        "data = np.array([2, 4, 5, 3, 15, 10, 20, 30])"
      ]
    },
    {
      "cell_type": "code",
      "source": [
        "k = int(input(\"Enter the value of k: \"))"
      ],
      "metadata": {
        "colab": {
          "base_uri": "https://localhost:8080/",
          "height": 0
        },
        "id": "fsWOHROcEJ75",
        "outputId": "3e398912-fd7f-4aa9-ebf1-36e616be3803"
      },
      "execution_count": 12,
      "outputs": [
        {
          "name": "stdout",
          "output_type": "stream",
          "text": [
            "Enter the value of k: 2\n"
          ]
        }
      ]
    },
    {
      "cell_type": "code",
      "source": [
        "# k = int(k)\n",
        "k_means = []\n",
        "for i in range(k):\n",
        "    k_means.append(data[i])"
      ],
      "metadata": {
        "id": "rJ2AKvTxDLyJ"
      },
      "execution_count": 13,
      "outputs": []
    },
    {
      "cell_type": "code",
      "source": [
        "print(\"Initial Centroids:\", k_means)"
      ],
      "metadata": {
        "colab": {
          "base_uri": "https://localhost:8080/",
          "height": 0
        },
        "id": "8hIpnRKbFMKN",
        "outputId": "6b2fba80-505b-427a-8e77-9cfe3e2b79e7"
      },
      "execution_count": 14,
      "outputs": [
        {
          "output_type": "stream",
          "name": "stdout",
          "text": [
            "Initial Centroids: [2, 4]\n"
          ]
        }
      ]
    },
    {
      "cell_type": "code",
      "source": [
        "# Function to calculate distance\n",
        "def distance(a, b):\n",
        "    return abs(a - b)"
      ],
      "metadata": {
        "id": "0rRyN5zVGGHH"
      },
      "execution_count": 15,
      "outputs": []
    },
    {
      "cell_type": "code",
      "source": [
        "clusters = [[] for _ in range(k)]\n",
        "clusters_new = [[] for _ in range(k)]"
      ],
      "metadata": {
        "id": "mSCkeVCTH8Z4"
      },
      "execution_count": 16,
      "outputs": []
    },
    {
      "cell_type": "code",
      "source": [
        "max_iterations = 10\n",
        "for _ in range(max_iterations):\n",
        "    clusters_new = [[] for _ in range(k)]\n",
        "\n",
        "    for i in data:\n",
        "        distances = [distance(i, mean) for mean in k_means]\n",
        "        closest_mean = np.argmin(distances)\n",
        "        clusters_new[closest_mean].append(i)\n",
        "\n",
        "    if clusters == clusters_new:\n",
        "        break\n",
        "\n",
        "    clusters = clusters_new\n",
        "    for j in range(k):\n",
        "        if clusters[j]:\n",
        "            k_means[j] = np.mean(clusters[j])\n",
        "\n",
        "for i in range(k):\n",
        "    print(f\"Cluster {i+1}: {clusters[i]}\")\n",
        "print(\"Final Centroids:\", k_means)"
      ],
      "metadata": {
        "colab": {
          "base_uri": "https://localhost:8080/",
          "height": 0
        },
        "id": "V6RiBRqiMtOl",
        "outputId": "d6cb3f28-a00a-48ca-c11c-91fde2f58eb1"
      },
      "execution_count": 17,
      "outputs": [
        {
          "output_type": "stream",
          "name": "stdout",
          "text": [
            "Cluster 1: [2, 4, 5, 3, 10]\n",
            "Cluster 2: [15, 20, 30]\n",
            "Final Centroids: [4.8, 21.666666666666668]\n"
          ]
        }
      ]
    },
    {
      "cell_type": "code",
      "source": [
        "# Visualization\n",
        "plt.figure(figsize=(8, 6))\n",
        "for i, cluster in enumerate(clusters):\n",
        "    plt.scatter(cluster, [0] * len(cluster), label=f\"Cluster {i+1}\")  # Plot points at y=0\n",
        "plt.scatter(k_means, [0] * len(k_means), marker='x', s=100, c='red', label='Centroids')  #Plot centroids at y=0\n",
        "plt.xlabel(\"Data Points\")\n",
        "plt.ylabel(\"Cluster\")\n",
        "plt.title(\"1D K-Means Clustering\")\n",
        "plt.legend()\n",
        "plt.grid(True)\n",
        "plt.show()"
      ],
      "metadata": {
        "colab": {
          "base_uri": "https://localhost:8080/",
          "height": 564
        },
        "id": "Sz6W8qWTRxuY",
        "outputId": "6b4fc352-869f-4528-bf31-aacdd0472e6c"
      },
      "execution_count": 18,
      "outputs": [
        {
          "output_type": "display_data",
          "data": {
            "text/plain": [
              "<Figure size 800x600 with 1 Axes>"
            ],
            "image/png": "[encoded data removed]"
          },
          "metadata": {}
        }
      ]
    },
    {
      "cell_type": "markdown",
      "source": [
        "K-Means Clustering 2D"
      ],
      "metadata": {
        "id": "hSVSvSckGWsq"
      }
    },
    {
      "cell_type": "code",
      "source": [
        "import numpy as np\n",
        "import matplotlib.pyplot as plt\n",
        "from sklearn.cluster import KMeans"
      ],
      "metadata": {
        "id": "ekO9m_fhCKqw"
      },
      "execution_count": 19,
      "outputs": []
    },
    {
      "cell_type": "code",
      "source": [
        "# Sample 2D data\n",
        "data = np.array([[1, 2], [1.5, 1.8], [5, 8], [8, 8], [1, 0.6], [9, 11]])"
      ],
      "metadata": {
        "id": "6amxtJNWCO1V"
      },
      "execution_count": 20,
      "outputs": []
    },
    {
      "cell_type": "code",
      "source": [
        "# Get the number of clusters from the user\n",
        "k = int(input(\"Enter the number of clusters (k): \"))"
      ],
      "metadata": {
        "colab": {
          "base_uri": "https://localhost:8080/",
          "height": 0
        },
        "id": "fwksesN0CwEj",
        "outputId": "8d166541-e354-4fee-c6fd-ed6b3b76ae23"
      },
      "execution_count": 21,
      "outputs": [
        {
          "name": "stdout",
          "output_type": "stream",
          "text": [
            "Enter the number of clusters (k): 2\n"
          ]
        }
      ]
    },
    {
      "cell_type": "code",
      "source": [
        "# Perform k-means clustering\n",
        "kmeans = KMeans(n_clusters=k, random_state=0).fit(data)"
      ],
      "metadata": {
        "id": "sgdyWjd2Cx7F"
      },
      "execution_count": 22,
      "outputs": []
    },
    {
      "cell_type": "code",
      "source": [
        "# Get cluster labels and centroids\n",
        "labels = kmeans.labels_\n",
        "centroids = kmeans.cluster_centers_"
      ],
      "metadata": {
        "id": "nrnEQTSsC1GH"
      },
      "execution_count": 23,
      "outputs": []
    },
    {
      "cell_type": "code",
      "source": [
        "# Print the results\n",
        "print(\"Cluster Labels:\", labels)\n",
        "print(\"Centroids:\", centroids)"
      ],
      "metadata": {
        "colab": {
          "base_uri": "https://localhost:8080/",
          "height": 0
        },
        "id": "RI8lNXCAC22B",
        "outputId": "3ba80ecd-0d5d-44b2-90f9-e90240be8f63"
      },
      "execution_count": 24,
      "outputs": [
        {
          "output_type": "stream",
          "name": "stdout",
          "text": [
            "Cluster Labels: [1 1 0 0 1 0]\n",
            "Centroids: [[7.33333333 9.        ]\n",
            " [1.16666667 1.46666667]]\n"
          ]
        }
      ]
    },
    {
      "cell_type": "code",
      "source": [
        "# Visualization\n",
        "plt.figure(figsize=(8, 6))\n",
        "for i in range(k):\n",
        "    plt.scatter(data[labels == i, 0], data[labels == i, 1], label=f\"Cluster {i + 1}\")\n",
        "plt.scatter(centroids[:, 0], centroids[:, 1], marker='x', s=100, c='red', label='Centroids')\n",
        "plt.xlabel(\"X-axis\")\n",
        "plt.ylabel(\"Y-axis\")\n",
        "plt.title(\"2D K-Means Clustering\")\n",
        "plt.legend()\n",
        "plt.grid(True)\n",
        "plt.show()\n"
      ],
      "metadata": {
        "colab": {
          "base_uri": "https://localhost:8080/",
          "height": 564
        },
        "id": "fH77WMwrC49l",
        "outputId": "638f038a-1e85-4cd2-b204-36a47c3adf55"
      },
      "execution_count": 25,
      "outputs": [
        {
          "output_type": "display_data",
          "data": {
            "text/plain": [
              "<Figure size 800x600 with 1 Axes>"
            ],
            "image/png": "[encoded data removed]"
          },
          "metadata": {}
        }
      ]
    }
  ]
}
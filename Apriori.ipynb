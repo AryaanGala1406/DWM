{
  "nbformat": 4,
  "nbformat_minor": 0,
  "metadata": {
    "colab": {
      "provenance": []
    },
    "kernelspec": {
      "name": "python3",
      "display_name": "Python 3"
    },
    "language_info": {
      "name": "python"
    }
  },
  "cells": [
    {
      "cell_type": "code",
      "execution_count": 1,
      "metadata": {
        "colab": {
          "base_uri": "https://localhost:8080/",
          "height": 0
        },
        "id": "ImjW7VawY0JY",
        "outputId": "6219c6dd-71d3-4bb0-d947-5f9e8a70b015"
      },
      "outputs": [
        {
          "output_type": "stream",
          "name": "stdout",
          "text": [
            "[{'milk': 4, 'bread': 5, 'butter': 5}, {('milk', 'bread'): 3, ('milk', 'butter'): 3, ('bread', 'butter'): 4}]\n"
          ]
        }
      ],
      "source": [
        "from itertools import combinations\n",
        "\n",
        "# Function to get frequent itemsets based on minimum support\n",
        "def get_frequent_itemsets(transactions, min_support):\n",
        "    itemsets = {}\n",
        "    for transaction in transactions:\n",
        "        for item in transaction:\n",
        "            if item in itemsets:\n",
        "                itemsets[item] += 1\n",
        "            else:\n",
        "                itemsets[item] = 1\n",
        "\n",
        "    # Filter itemsets to only include those that meet or exceed the minimum support\n",
        "    frequent_itemsets = {item: support for item, support in itemsets.items() if support >= min_support}\n",
        "    return frequent_itemsets\n",
        "\n",
        "# Function to generate candidate itemsets of size k\n",
        "def get_candidate_itemsets(frequent_itemsets, k):\n",
        "    candidates = []\n",
        "    frequent_items = list(frequent_itemsets.keys())\n",
        "    for combination in combinations(frequent_items, k):\n",
        "        candidates.append(combination)\n",
        "    return candidates\n",
        "\n",
        "\n",
        "# Apriori algorithm to find all frequent itemsets\n",
        "def apriori(transactions, min_support):\n",
        "    k = 1\n",
        "    # Initial set of frequent itemsets\n",
        "    frequent_itemsets = get_frequent_itemsets(transactions, min_support)\n",
        "    all_frequent_itemsets = [frequent_itemsets]\n",
        "\n",
        "    # Iterate to find larger itemsets\n",
        "    while frequent_itemsets:\n",
        "        k += 1\n",
        "        # Generate candidate itemsets of size k\n",
        "        candidates = get_candidate_itemsets(frequent_itemsets, k)\n",
        "        candidate_supports = {candidate: 0 for candidate in candidates}\n",
        "\n",
        "        # Calculate support for each candidate itemset\n",
        "        for transaction in transactions:\n",
        "            for candidate in candidates:\n",
        "                if set(candidate).issubset(set(transaction)):\n",
        "                    candidate_supports[candidate] += 1\n",
        "\n",
        "        # Filter candidate itemsets to only include those that meet or exceed the minimum support\n",
        "        frequent_itemsets = {itemset: support for itemset, support in candidate_supports.items() if support >= min_support}\n",
        "        if frequent_itemsets:\n",
        "            all_frequent_itemsets.append(frequent_itemsets)\n",
        "\n",
        "    return all_frequent_itemsets\n",
        "\n",
        "\n",
        "transactions = [\n",
        "    ['milk', 'bread', 'butter'],\n",
        "    ['bread', 'butter'],\n",
        "    ['milk', 'bread'],\n",
        "    ['milk', 'butter'],\n",
        "    ['bread', 'butter'],\n",
        "    ['milk', 'bread', 'butter']\n",
        "]\n",
        "\n",
        "min_support = 2\n",
        "frequent_itemsets = apriori(transactions, min_support)\n",
        "print(frequent_itemsets)"
      ]
    },
    {
      "cell_type": "code",
      "source": [
        "from mlxtend.frequent_patterns import apriori, association_rules\n",
        "from mlxtend.preprocessing import TransactionEncoder\n",
        "import pandas as pd\n",
        "\n",
        "# Sample transactional data\n",
        "dataset = [\n",
        "    ['Milk', 'Bread', 'Butter'],\n",
        "    ['Bread', 'Butter'],\n",
        "    ['Milk', 'Bread'],\n",
        "    ['Milk', 'Butter'],\n",
        "    ['Bread', 'Butter', 'Eggs']\n",
        "]\n",
        "\n",
        "# Encoding transactions\n",
        "te = TransactionEncoder()\n",
        "te_ary = te.fit(dataset).transform(dataset)\n",
        "df = pd.DataFrame(te_ary, columns=te.columns_)\n",
        "\n",
        "# Applying Apriori algorithm\n",
        "frequent_itemsets = apriori(df, min_support=0.4, use_colnames=True)\n",
        "\n",
        "# Generating association rules\n",
        "rules = association_rules(frequent_itemsets, metric='confidence', min_threshold=0.6)\n",
        "\n",
        "# Display results\n",
        "print(\"Frequent Itemsets:\\n\", frequent_itemsets)\n",
        "print(\"\\nAssociation Rules:\\n\", rules[['antecedents', 'consequents', 'support', 'confidence', 'lift']])"
      ],
      "metadata": {
        "colab": {
          "base_uri": "https://localhost:8080/",
          "height": 0
        },
        "id": "ZDExBB0pZIIs",
        "outputId": "306f96a6-e504-40b7-a0fc-bc6a3d3e73ef"
      },
      "execution_count": 2,
      "outputs": [
        {
          "output_type": "stream",
          "name": "stdout",
          "text": [
            "Frequent Itemsets:\n",
            "    support         itemsets\n",
            "0      0.8          (Bread)\n",
            "1      0.8         (Butter)\n",
            "2      0.6           (Milk)\n",
            "3      0.6  (Bread, Butter)\n",
            "4      0.4    (Bread, Milk)\n",
            "5      0.4   (Milk, Butter)\n",
            "\n",
            "Association Rules:\n",
            "   antecedents consequents  support  confidence      lift\n",
            "0     (Bread)    (Butter)      0.6    0.750000  0.937500\n",
            "1    (Butter)     (Bread)      0.6    0.750000  0.937500\n",
            "2      (Milk)     (Bread)      0.4    0.666667  0.833333\n",
            "3      (Milk)    (Butter)      0.4    0.666667  0.833333\n"
          ]
        }
      ]
    },
    {
      "cell_type": "code",
      "source": [],
      "metadata": {
        "id": "rz1adUxWagkS"
      },
      "execution_count": null,
      "outputs": []
    }
  ]
}